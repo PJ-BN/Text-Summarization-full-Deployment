{
 "cells": [
  {
   "cell_type": "code",
   "execution_count": 7,
   "metadata": {},
   "outputs": [],
   "source": [
    "from rouge_score import rouge_scorer"
   ]
  },
  {
   "cell_type": "code",
   "execution_count": 34,
   "metadata": {},
   "outputs": [],
   "source": [
    "\n",
    "import spacy\n",
    "import pytextrank\n",
    "\n",
    "def summary(example_text):\n",
    "\n",
    "  nlp = spacy.load(\"en_core_web_lg\")\n",
    "  nlp.add_pipe(\"textrank\")\n",
    "\n",
    "  doc = nlp(example_text)\n",
    "\n",
    "  sents = \"\"\n",
    "  for sent in doc._.textrank.summary(limit_phrases=2, limit_sentences=4):\n",
    "        sents = sents + sent.text\n",
    "      \n",
    "  \n",
    "  print(sents)\n",
    "  return sents\n"
   ]
  },
  {
   "cell_type": "code",
   "execution_count": 35,
   "metadata": {},
   "outputs": [],
   "source": [
    "hand_summary = \"\"\"\n",
    "World War I, also known as the First World War, was a global conflict that took place from July 28, 1914, to November 11, 1918. It involved two major alliances, the Allies and the Central Powers, and was fought across Europe, the Middle East, Africa, the Pacific, and parts of Asia. The war resulted in immense casualties, with an estimated 9 million soldiers and 5 million civilians losing their lives. It was triggered by the assassination of Archduke Franz Ferdinand of Austria-Hungary, which led to a chain of events and declarations of war. The war saw the emergence of trench warfare on the Western Front and a fluid but indecisive conflict on the Eastern Front. The United States entered the war in 1917, while the Russian Revolution and peace treaties with the Central Powers shifted the balance of power. Germany's final offensive in 1918 failed, leading to a series of armistices and the eventual end of the war. The aftermath of the war, marked by the Treaty of Versailles and the redrawing of borders, contributed to the instability that led to World War II.\n",
    "\n",
    "\"\"\""
   ]
  },
  {
   "cell_type": "code",
   "execution_count": 36,
   "metadata": {},
   "outputs": [],
   "source": [
    "article = \"\"\"\n",
    "World War I or the First World War (28 July 1914 – 11 November 1918), often abbreviated as WWI, was one of the deadliest global conflicts in history. It was fought between two coalitions, the Allies and the Central Powers. Fighting occurred throughout Europe, the Middle East, Africa, the Pacific, and parts of Asia. An estimated 9 million soldiers were killed in combat, plus another 23 million wounded, while 5 million civilians died as a result of military action, hunger, and disease. Millions more died as a result of genocide, while the 1918 Spanish flu pandemic was exacerbated by the movement of combatants during the war.\n",
    "\n",
    "The first decade of the 20th century saw increasing diplomatic tension between the European great powers. This reached breaking point on 28 June 1914, when a Bosnian Serb named Gavrilo Princip assassinated Archduke Franz Ferdinand, heir to the Austro-Hungarian throne. Austria-Hungary held Serbia responsible, and declared war on 28 July. Russia came to Serbia's defence, and by 4 August, defensive alliances had drawn in Germany, France, and Britain, with the Ottoman Empire joining the war in November.\n",
    "\n",
    "German strategy in 1914 was to first defeat France, then attack Russia. However, this failed, and by the end of 1914, the Western Front consisted of a continuous line of trenches stretching from the English Channel to Switzerland. The Eastern Front was more fluid, but neither side could gain a decisive advantage, despite a series of costly offensives. Fighting expanded onto secondary fronts as Bulgaria, Romania, Greece, and others entered the war between 1915 and 1916.\n",
    "\n",
    "The United States entered the war on the side of the Allies in April 1917, while the Bolsheviks seized power in the Russian October Revolution, and made peace with the Central Powers in early 1918. Freed from the Eastern Front, Germany launched an offensive in the west on March 1918, hoping to achieve a decisive victory before American troops arrived in significant numbers. Failure left the German Imperial Army exhausted and demoralised, and when the Allies took the offensive in August 1918, German forces could not stop the advance.\n",
    "\n",
    "Between 29 September and 3 November 1918, Bulgaria, the Ottoman Empire, and Austria-Hungary agreed to armistices with the Allies, leaving Germany isolated. Facing revolution at home, and with his army on the verge of mutiny, Kaiser Wilhelm II abdicated on 9 November. The Armistice of 11 November 1918 brought the fighting to a close, while the Paris Peace Conference imposed various settlements on the defeated powers, the best-known being the Treaty of Versailles. The dissolution of the Russian, German, Austro-Hungarian, and Ottoman Empires resulted in the creation of new independent states, among them Poland, Czechoslovakia, and Yugoslavia. Failure to manage the instability that resulted from this upheaval during the interwar period contributed to the outbreak of World War II in September 1939.\n",
    "\"\"\""
   ]
  },
  {
   "cell_type": "code",
   "execution_count": 37,
   "metadata": {},
   "outputs": [
    {
     "name": "stdout",
     "output_type": "stream",
     "text": [
      "Austria-Hungary held Serbia responsible, and declared war on 28 July.Russia came to Serbia's defence, and by 4 August, defensive alliances had drawn in Germany, France, and Britain, with the Ottoman Empire joining the war in November.\n",
      "\n",
      "\n",
      "World War I or the First World War (28 July 1914 – 11 November 1918), often abbreviated as WWI, was one of the deadliest global conflicts in history.It was fought between two coalitions, the Allies and the Central Powers.\n"
     ]
    }
   ],
   "source": [
    "our_summary = summary(article)\n",
    "\n"
   ]
  },
  {
   "cell_type": "code",
   "execution_count": 38,
   "metadata": {},
   "outputs": [],
   "source": [
    "import matplotlib.pyplot as plt"
   ]
  },
  {
   "cell_type": "code",
   "execution_count": 39,
   "metadata": {},
   "outputs": [],
   "source": [
    "def calculate_rogue(a, x):\n",
    "    scorer = rouge_scorer.RougeScorer(['rouge1', 'rouge2', 'rougeL'])\n",
    "    scores = scorer.score(a, x)\n",
    "    # calculate the rogue value\n",
    "    rouge1_score = scores['rouge1'].fmeasure\n",
    "    rouge2_score = scores['rouge2'].fmeasure\n",
    "    rougeL_score = scores['rougeL'].fmeasure\n",
    "    \n",
    "    # creating data for bar graph\n",
    "    data = {\n",
    "    \"rogue 1\": rouge1_score,\n",
    "    \"rogue 2\": rouge2_score,\n",
    "    \"rogue l\": rougeL_score\n",
    "    }\n",
    "\n",
    "    coln = list(data.keys())\n",
    "    rows = list(data.values())\n",
    "    \n",
    "    fig = plt.figure(figsize = (10, 5))\n",
    "    \n",
    "    # creating the bar plot\n",
    "    plt.bar(coln, rows, color ='maroon',\n",
    "            width = 0.4)\n",
    "    \n",
    "    plt.xlabel(\"ROGUE Value\")\n",
    "    plt.ylabel(\"Accuracy\")\n",
    "    plt.title(\"Summarizatation Accuracy\")\n",
    "    plt.show()\n",
    "\n",
    "    "
   ]
  },
  {
   "cell_type": "code",
   "execution_count": 40,
   "metadata": {},
   "outputs": [
    {
     "data": {
      "image/png": "[encoded data removed]",
      "text/plain": [
       "<Figure size 1000x500 with 1 Axes>"
      ]
     },
     "metadata": {},
     "output_type": "display_data"
    }
   ],
   "source": [
    "calculate_rogue(hand_summary, our_summary)"
   ]
  },
  {
   "cell_type": "code",
   "execution_count": null,
   "metadata": {},
   "outputs": [],
   "source": []
  }
 ],
 "metadata": {
  "kernelspec": {
   "display_name": "Python 3",
   "language": "python",
   "name": "python3"
  },
  "language_info": {
   "codemirror_mode": {
    "name": "ipython",
    "version": 3
   },
   "file_extension": ".py",
   "mimetype": "text/x-python",
   "name": "python",
   "nbconvert_exporter": "python",
   "pygments_lexer": "ipython3",
   "version": "3.11.3"
  },
  "orig_nbformat": 4
 },
 "nbformat": 4,
 "nbformat_minor": 2
}
